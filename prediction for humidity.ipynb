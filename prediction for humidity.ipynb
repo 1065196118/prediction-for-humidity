{
 "cells": [
  {
   "cell_type": "code",
   "execution_count": 48,
   "metadata": {},
   "outputs": [
    {
     "name": "stdout",
     "output_type": "stream",
     "text": [
      "              datetime  Vancouver  Portland  San Francisco  Seattle  \\\n",
      "0  2012-10-01 12:00:00        NaN       NaN            NaN      NaN   \n",
      "1  2012-10-01 13:00:00       76.0      81.0           88.0     81.0   \n",
      "2  2012-10-01 14:00:00       76.0      80.0           87.0     80.0   \n",
      "3  2012-10-01 15:00:00       76.0      80.0           86.0     80.0   \n",
      "4  2012-10-01 16:00:00       77.0      80.0           85.0     79.0   \n",
      "\n",
      "   Los Angeles  San Diego  Las Vegas  Phoenix  Albuquerque  ...  Philadelphia  \\\n",
      "0          NaN        NaN        NaN      NaN          NaN  ...           NaN   \n",
      "1         88.0       82.0       22.0     23.0         50.0  ...          71.0   \n",
      "2         88.0       81.0       21.0     23.0         49.0  ...          70.0   \n",
      "3         88.0       81.0       21.0     23.0         49.0  ...          70.0   \n",
      "4         88.0       81.0       21.0     23.0         49.0  ...          69.0   \n",
      "\n",
      "   New York  Montreal  Boston  Beersheba  Tel Aviv District  Eilat  Haifa  \\\n",
      "0       NaN       NaN     NaN        NaN                NaN   25.0    NaN   \n",
      "1      58.0      93.0    68.0       50.0               63.0   22.0   51.0   \n",
      "2      57.0      91.0    68.0       51.0               62.0   22.0   51.0   \n",
      "3      57.0      87.0    68.0       51.0               62.0   22.0   51.0   \n",
      "4      57.0      84.0    68.0       52.0               62.0   22.0   51.0   \n",
      "\n",
      "   Nahariyya  Jerusalem  \n",
      "0        NaN        NaN  \n",
      "1       51.0       50.0  \n",
      "2       51.0       50.0  \n",
      "3       51.0       50.0  \n",
      "4       51.0       50.0  \n",
      "\n",
      "[5 rows x 37 columns]\n"
     ]
    }
   ],
   "source": [
    "import pandas as pd\n",
    "from sklearn.ensemble import RandomForestClassifier\n",
    "data= pd.read_csv('humidity.csv', sep=',', header=0)\n",
    "print(data.head())"
   ]
  },
  {
   "cell_type": "code",
   "execution_count": 49,
   "metadata": {},
   "outputs": [],
   "source": [
    "#data clean up\n",
    "d=data =data[pd.notnull(data['Jerusalem'])]"
   ]
  },
  {
   "cell_type": "code",
   "execution_count": 50,
   "metadata": {},
   "outputs": [
    {
     "data": {
      "text/html": [
       "<div>\n",
       "<style scoped>\n",
       "    .dataframe tbody tr th:only-of-type {\n",
       "        vertical-align: middle;\n",
       "    }\n",
       "\n",
       "    .dataframe tbody tr th {\n",
       "        vertical-align: top;\n",
       "    }\n",
       "\n",
       "    .dataframe thead th {\n",
       "        text-align: right;\n",
       "    }\n",
       "</style>\n",
       "<table border=\"1\" class=\"dataframe\">\n",
       "  <thead>\n",
       "    <tr style=\"text-align: right;\">\n",
       "      <th></th>\n",
       "      <th>datetime</th>\n",
       "      <th>Vancouver</th>\n",
       "      <th>Portland</th>\n",
       "      <th>San Francisco</th>\n",
       "      <th>Seattle</th>\n",
       "      <th>Los Angeles</th>\n",
       "      <th>San Diego</th>\n",
       "      <th>Las Vegas</th>\n",
       "      <th>Phoenix</th>\n",
       "      <th>Albuquerque</th>\n",
       "      <th>...</th>\n",
       "      <th>Beersheba</th>\n",
       "      <th>Tel Aviv District</th>\n",
       "      <th>Eilat</th>\n",
       "      <th>Haifa</th>\n",
       "      <th>Nahariyya</th>\n",
       "      <th>Jerusalem</th>\n",
       "      <th>year</th>\n",
       "      <th>month</th>\n",
       "      <th>day</th>\n",
       "      <th>hour</th>\n",
       "    </tr>\n",
       "  </thead>\n",
       "  <tbody>\n",
       "    <tr>\n",
       "      <th>1</th>\n",
       "      <td>2012-10-01 13:00:00</td>\n",
       "      <td>76.0</td>\n",
       "      <td>81.0</td>\n",
       "      <td>88.0</td>\n",
       "      <td>81.0</td>\n",
       "      <td>88.0</td>\n",
       "      <td>82.0</td>\n",
       "      <td>22.0</td>\n",
       "      <td>23.0</td>\n",
       "      <td>50.0</td>\n",
       "      <td>...</td>\n",
       "      <td>50.0</td>\n",
       "      <td>63.0</td>\n",
       "      <td>22.0</td>\n",
       "      <td>51.0</td>\n",
       "      <td>51.0</td>\n",
       "      <td>50.0</td>\n",
       "      <td>2012</td>\n",
       "      <td>10</td>\n",
       "      <td>1</td>\n",
       "      <td>13</td>\n",
       "    </tr>\n",
       "    <tr>\n",
       "      <th>2</th>\n",
       "      <td>2012-10-01 14:00:00</td>\n",
       "      <td>76.0</td>\n",
       "      <td>80.0</td>\n",
       "      <td>87.0</td>\n",
       "      <td>80.0</td>\n",
       "      <td>88.0</td>\n",
       "      <td>81.0</td>\n",
       "      <td>21.0</td>\n",
       "      <td>23.0</td>\n",
       "      <td>49.0</td>\n",
       "      <td>...</td>\n",
       "      <td>51.0</td>\n",
       "      <td>62.0</td>\n",
       "      <td>22.0</td>\n",
       "      <td>51.0</td>\n",
       "      <td>51.0</td>\n",
       "      <td>50.0</td>\n",
       "      <td>2012</td>\n",
       "      <td>10</td>\n",
       "      <td>1</td>\n",
       "      <td>14</td>\n",
       "    </tr>\n",
       "    <tr>\n",
       "      <th>3</th>\n",
       "      <td>2012-10-01 15:00:00</td>\n",
       "      <td>76.0</td>\n",
       "      <td>80.0</td>\n",
       "      <td>86.0</td>\n",
       "      <td>80.0</td>\n",
       "      <td>88.0</td>\n",
       "      <td>81.0</td>\n",
       "      <td>21.0</td>\n",
       "      <td>23.0</td>\n",
       "      <td>49.0</td>\n",
       "      <td>...</td>\n",
       "      <td>51.0</td>\n",
       "      <td>62.0</td>\n",
       "      <td>22.0</td>\n",
       "      <td>51.0</td>\n",
       "      <td>51.0</td>\n",
       "      <td>50.0</td>\n",
       "      <td>2012</td>\n",
       "      <td>10</td>\n",
       "      <td>1</td>\n",
       "      <td>15</td>\n",
       "    </tr>\n",
       "    <tr>\n",
       "      <th>4</th>\n",
       "      <td>2012-10-01 16:00:00</td>\n",
       "      <td>77.0</td>\n",
       "      <td>80.0</td>\n",
       "      <td>85.0</td>\n",
       "      <td>79.0</td>\n",
       "      <td>88.0</td>\n",
       "      <td>81.0</td>\n",
       "      <td>21.0</td>\n",
       "      <td>23.0</td>\n",
       "      <td>49.0</td>\n",
       "      <td>...</td>\n",
       "      <td>52.0</td>\n",
       "      <td>62.0</td>\n",
       "      <td>22.0</td>\n",
       "      <td>51.0</td>\n",
       "      <td>51.0</td>\n",
       "      <td>50.0</td>\n",
       "      <td>2012</td>\n",
       "      <td>10</td>\n",
       "      <td>1</td>\n",
       "      <td>16</td>\n",
       "    </tr>\n",
       "    <tr>\n",
       "      <th>5</th>\n",
       "      <td>2012-10-01 17:00:00</td>\n",
       "      <td>78.0</td>\n",
       "      <td>79.0</td>\n",
       "      <td>84.0</td>\n",
       "      <td>79.0</td>\n",
       "      <td>88.0</td>\n",
       "      <td>80.0</td>\n",
       "      <td>21.0</td>\n",
       "      <td>24.0</td>\n",
       "      <td>49.0</td>\n",
       "      <td>...</td>\n",
       "      <td>54.0</td>\n",
       "      <td>62.0</td>\n",
       "      <td>23.0</td>\n",
       "      <td>51.0</td>\n",
       "      <td>51.0</td>\n",
       "      <td>50.0</td>\n",
       "      <td>2012</td>\n",
       "      <td>10</td>\n",
       "      <td>1</td>\n",
       "      <td>17</td>\n",
       "    </tr>\n",
       "  </tbody>\n",
       "</table>\n",
       "<p>5 rows × 41 columns</p>\n",
       "</div>"
      ],
      "text/plain": [
       "             datetime  Vancouver  Portland  San Francisco  Seattle  \\\n",
       "1 2012-10-01 13:00:00       76.0      81.0           88.0     81.0   \n",
       "2 2012-10-01 14:00:00       76.0      80.0           87.0     80.0   \n",
       "3 2012-10-01 15:00:00       76.0      80.0           86.0     80.0   \n",
       "4 2012-10-01 16:00:00       77.0      80.0           85.0     79.0   \n",
       "5 2012-10-01 17:00:00       78.0      79.0           84.0     79.0   \n",
       "\n",
       "   Los Angeles  San Diego  Las Vegas  Phoenix  Albuquerque  ...  Beersheba  \\\n",
       "1         88.0       82.0       22.0     23.0         50.0  ...       50.0   \n",
       "2         88.0       81.0       21.0     23.0         49.0  ...       51.0   \n",
       "3         88.0       81.0       21.0     23.0         49.0  ...       51.0   \n",
       "4         88.0       81.0       21.0     23.0         49.0  ...       52.0   \n",
       "5         88.0       80.0       21.0     24.0         49.0  ...       54.0   \n",
       "\n",
       "   Tel Aviv District  Eilat  Haifa  Nahariyya  Jerusalem  year  month  day  \\\n",
       "1               63.0   22.0   51.0       51.0       50.0  2012     10    1   \n",
       "2               62.0   22.0   51.0       51.0       50.0  2012     10    1   \n",
       "3               62.0   22.0   51.0       51.0       50.0  2012     10    1   \n",
       "4               62.0   22.0   51.0       51.0       50.0  2012     10    1   \n",
       "5               62.0   23.0   51.0       51.0       50.0  2012     10    1   \n",
       "\n",
       "   hour  \n",
       "1    13  \n",
       "2    14  \n",
       "3    15  \n",
       "4    16  \n",
       "5    17  \n",
       "\n",
       "[5 rows x 41 columns]"
      ]
     },
     "execution_count": 50,
     "metadata": {},
     "output_type": "execute_result"
    }
   ],
   "source": [
    "# train\n",
    "# Editdata date and conversion to columns\n",
    "data['datetime'] = pd.to_datetime(data['datetime']) \n",
    "data['year'] = data['datetime'].dt.year \n",
    "data['month'] = data['datetime'].dt.month  \n",
    "data['day'] = data['datetime'].dt.day\n",
    "data['hour']=data['datetime'].dt.hour\n",
    "data.head() "
   ]
  },
  {
   "cell_type": "code",
   "execution_count": 51,
   "metadata": {},
   "outputs": [
    {
     "name": "stdout",
     "output_type": "stream",
     "text": [
      "Index(['Vancouver', 'Portland', 'San Francisco', 'Seattle', 'Los Angeles',\n",
      "       'San Diego', 'Las Vegas', 'Phoenix', 'Albuquerque', 'Denver',\n",
      "       'San Antonio', 'Dallas', 'Houston', 'Kansas City', 'Minneapolis',\n",
      "       'Saint Louis', 'Chicago', 'Nashville', 'Indianapolis', 'Atlanta',\n",
      "       'Detroit', 'Jacksonville', 'Charlotte', 'Miami', 'Pittsburgh',\n",
      "       'Toronto', 'Philadelphia', 'New York', 'Montreal', 'Boston',\n",
      "       'Beersheba', 'Tel Aviv District', 'Eilat', 'Haifa', 'Nahariyya',\n",
      "       'Jerusalem', 'year', 'month', 'day', 'hour'],\n",
      "      dtype='object')\n"
     ]
    }
   ],
   "source": [
    "# select columns (int & float)\n",
    "quantitative = data.select_dtypes(include = [\"int64\",\"float64\"]).keys()\n",
    "print(quantitative)"
   ]
  },
  {
   "cell_type": "code",
   "execution_count": 46,
   "metadata": {},
   "outputs": [],
   "source": [
    "y = data.iloc[:,36] # select country (Jerusalem)\n",
    "X = data.iloc[:,37:] # select year , month , day , hour\n"
   ]
  },
  {
   "cell_type": "code",
   "execution_count": 52,
   "metadata": {},
   "outputs": [
    {
     "data": {
      "text/plain": [
       "1        50.0\n",
       "2        50.0\n",
       "3        50.0\n",
       "4        50.0\n",
       "5        50.0\n",
       "         ... \n",
       "44456    68.0\n",
       "44457    72.0\n",
       "44458    60.0\n",
       "44459    56.0\n",
       "44460    60.0\n",
       "Name: Jerusalem, Length: 44347, dtype: float64"
      ]
     },
     "execution_count": 52,
     "metadata": {},
     "output_type": "execute_result"
    }
   ],
   "source": [
    "y"
   ]
  },
  {
   "cell_type": "code",
   "execution_count": 47,
   "metadata": {},
   "outputs": [
    {
     "data": {
      "text/plain": [
       "0.9999"
      ]
     },
     "execution_count": 47,
     "metadata": {},
     "output_type": "execute_result"
    }
   ],
   "source": [
    "# work prediction for Random Forest Classifier\n",
    "RF = RandomForestClassifier(n_estimators=60, max_depth=25, random_state=3)\n",
    "RF.fit(X, y)\n",
    "s=RF.predict(X.iloc[4434 :,:])\n",
    "round(RF.score(X,y), 4)"
   ]
  },
  {
   "cell_type": "code",
   "execution_count": 78,
   "metadata": {},
   "outputs": [],
   "source": [
    "y_train = data.iloc[:37261,36:] \n",
    "X_test= data.iloc[37262:,37:]"
   ]
  },
  {
   "cell_type": "code",
   "execution_count": 79,
   "metadata": {},
   "outputs": [],
   "source": [
    "y=y_train.iloc[:,0]\n",
    "X=y_train.iloc[:,1:]"
   ]
  },
  {
   "cell_type": "code",
   "execution_count": 84,
   "metadata": {},
   "outputs": [
    {
     "data": {
      "text/plain": [
       "0.9999"
      ]
     },
     "execution_count": 84,
     "metadata": {},
     "output_type": "execute_result"
    }
   ],
   "source": [
    "RF = RandomForestClassifier(n_estimators=60, max_depth=25, random_state=3)\n",
    "RF.fit(X, y)\n",
    "r=RF.predict(X_test)\n",
    "round(RF.score(X,y), 4)"
   ]
  },
  {
   "cell_type": "code",
   "execution_count": 93,
   "metadata": {},
   "outputs": [
    {
     "data": {
      "text/plain": [
       "array([82., 81., 81., ..., 87., 91., 91.])"
      ]
     },
     "execution_count": 93,
     "metadata": {},
     "output_type": "execute_result"
    }
   ],
   "source": [
    "r"
   ]
  },
  {
   "cell_type": "code",
   "execution_count": null,
   "metadata": {},
   "outputs": [],
   "source": []
  }
 ],
 "metadata": {
  "kernelspec": {
   "display_name": "Python 3",
   "language": "python",
   "name": "python3"
  },
  "language_info": {
   "codemirror_mode": {
    "name": "ipython",
    "version": 3
   },
   "file_extension": ".py",
   "mimetype": "text/x-python",
   "name": "python",
   "nbconvert_exporter": "python",
   "pygments_lexer": "ipython3",
   "version": "3.7.6"
  }
 },
 "nbformat": 4,
 "nbformat_minor": 4
}
